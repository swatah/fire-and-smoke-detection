{
 "cells": [
  {
   "cell_type": "code",
   "execution_count": 1,
   "id": "5b539b7e",
   "metadata": {},
   "outputs": [
    {
     "name": "stdout",
     "output_type": "stream",
     "text": [
      "/home/atanu/Documents/swatah/fire-and-smoke-detection\n"
     ]
    }
   ],
   "source": [
    "%cd .."
   ]
  },
  {
   "cell_type": "code",
   "execution_count": 2,
   "id": "73a57692",
   "metadata": {},
   "outputs": [],
   "source": [
    "import cv2\n",
    "import time\n",
    "import onnxruntime as ort\n",
    "\n",
    "from utils.process import preprocessing, postprocessing\n",
    "\n",
    "ONNX_MODEL_PATH = \"models/smoke_tiny_lrelu.onnx\"\n",
    "CLASS_NAMES = [\"BG\", \"Fire\", \"Smoke\"]\n",
    "COLORS = [\"red\", \"yellow\", \"white\"]\n",
    "CV2COLORS = [(255, 255, 255), (0, 255, 255), (255, 255, 255)]\n",
    "IMAGE_SHAPE = (640, 640)\n",
    "video_path = \"data/videos/sample_01.mp4\""
   ]
  },
  {
   "cell_type": "code",
   "execution_count": 3,
   "id": "865bcd91",
   "metadata": {},
   "outputs": [],
   "source": [
    "session = ort.InferenceSession(ONNX_MODEL_PATH)\n",
    "input_name = session.get_inputs()[0].name\n",
    "output_name = session.get_outputs()[0].name"
   ]
  },
  {
   "cell_type": "code",
   "execution_count": 4,
   "id": "4102dce0",
   "metadata": {},
   "outputs": [],
   "source": [
    "cap = cv2.VideoCapture(video_path)\n",
    "\n",
    "if not cap.isOpened():\n",
    "    print(\"Error: Cannot open video.\")\n",
    "    exit()\n",
    "\n",
    "\n",
    "prev_time = 0\n",
    "\n",
    "while True:\n",
    "    ret, image = cap.read()\n",
    "\n",
    "    if not ret:\n",
    "        print(\"End of video or cannot fetch the frame.\")\n",
    "        break\n",
    "\n",
    "    current_time = time.time()\n",
    "    fps = 1 / (current_time - prev_time) if prev_time else 0\n",
    "    prev_time = current_time\n",
    "\n",
    "    # preprocessing\n",
    "    tensor_input, image, ratios = preprocessing(image, IMAGE_SHAPE)\n",
    "\n",
    "    # predictions\n",
    "    predictions = session.run([output_name], {input_name: tensor_input})\n",
    "\n",
    "    # postprocessing\n",
    "    outputs = postprocessing(predictions[0], ratios)\n",
    "\n",
    "    for detections in outputs:\n",
    "\n",
    "        if detections.ndim == 1:\n",
    "            detections = detections.reshape(1, -1)\n",
    "\n",
    "            for det in detections:\n",
    "                x1, y1, x2, y2 = map(int, det[:4])\n",
    "                class_id = int(det[8])\n",
    "                # score = det[4] * det[5 + class_id]\n",
    "                score = det[4]\n",
    "                label = f\"{CLASS_NAMES[class_id]}: {score:.2f}\"\n",
    "\n",
    "                cv2.rectangle(image, (x1, y1), (x2, y2), CV2COLORS[class_id], 1)\n",
    "\n",
    "                cv2.putText(\n",
    "                    image,\n",
    "                    label,\n",
    "                    (x1, y1 - 10),\n",
    "                    cv2.FONT_HERSHEY_SIMPLEX,\n",
    "                    0.5,\n",
    "                    CV2COLORS[class_id],\n",
    "                    1,\n",
    "                )\n",
    "\n",
    "    cv2.putText(\n",
    "        image, f\"FPS: {fps:.2f}\", (10, 30), cv2.FONT_HERSHEY_SIMPLEX, 1, (0, 255, 0), 2\n",
    "    )\n",
    "    cv2.imshow(\"Video Playback\", image)\n",
    "    if cv2.waitKey(25) & 0xFF == ord(\"q\"):\n",
    "        break\n",
    "\n",
    "cap.release()\n",
    "cv2.destroyAllWindows()"
   ]
  },
  {
   "cell_type": "code",
   "execution_count": null,
   "id": "37cdf261",
   "metadata": {},
   "outputs": [],
   "source": []
  }
 ],
 "metadata": {
  "kernelspec": {
   "display_name": "venv",
   "language": "python",
   "name": "python3"
  },
  "language_info": {
   "codemirror_mode": {
    "name": "ipython",
    "version": 3
   },
   "file_extension": ".py",
   "mimetype": "text/x-python",
   "name": "python",
   "nbconvert_exporter": "python",
   "pygments_lexer": "ipython3",
   "version": "3.12.3"
  }
 },
 "nbformat": 4,
 "nbformat_minor": 5
}
