{
 "cells": [
  {
   "cell_type": "code",
   "execution_count": 1,
   "id": "53e2e11f",
   "metadata": {},
   "outputs": [
    {
     "data": {
      "text/plain": [
       "'\\nCopyright (c) 2025 NeuralSense AI Private Limited\\nTrading as swatah.ai. All rights reserved.\\nThis file is part of the swatah.ai software stack and is licensed under\\nthe terms defined in the accompanying LICENSE file. Unauthorized copying,\\ndistribution, or modification of this file, via any medium, is strictly prohibited.\\nFor more information, visit: https://swatah.ai\\n'"
      ]
     },
     "execution_count": 1,
     "metadata": {},
     "output_type": "execute_result"
    }
   ],
   "source": [
    "\"\"\"\n",
    "Copyright (c) 2025 NeuralSense AI Private Limited\n",
    "Trading as swatah.ai. All rights reserved.\n",
    "This file is part of the swatah.ai software stack and is licensed under\n",
    "the terms defined in the accompanying LICENSE file. Unauthorized copying,\n",
    "distribution, or modification of this file, via any medium, is strictly prohibited.\n",
    "For more information, visit: https://swatah.ai\n",
    "\"\"\""
   ]
  },
  {
   "cell_type": "code",
   "execution_count": 1,
   "id": "9fb97273",
   "metadata": {},
   "outputs": [
    {
     "name": "stdout",
     "output_type": "stream",
     "text": [
      "Collecting rknn-toolkit2\n",
      "  Using cached rknn_toolkit2-2.3.2-cp311-cp311-manylinux_2_17_aarch64.manylinux2014_aarch64.whl (37.7 MB)\n",
      "Collecting protobuf==3.20.3\n",
      "  Using cached protobuf-3.20.3-py2.py3-none-any.whl (162 kB)\n",
      "Requirement already satisfied: psutil>=5.9.0 in /home/radxa/dev/fire-and-smoke-detection/venv/lib/python3.11/site-packages (from rknn-toolkit2) (7.0.0)\n",
      "Requirement already satisfied: ruamel.yaml>=0.17.21 in /home/radxa/dev/fire-and-smoke-detection/venv/lib/python3.11/site-packages (from rknn-toolkit2) (0.18.11)\n",
      "Collecting scipy>=1.9.3\n",
      "  Using cached scipy-1.15.3-cp311-cp311-manylinux_2_17_aarch64.manylinux2014_aarch64.whl (35.5 MB)\n",
      "Collecting tqdm>=4.64.1\n",
      "  Using cached tqdm-4.67.1-py3-none-any.whl (78 kB)\n",
      "Requirement already satisfied: opencv-python>=4.5.5.64 in /home/radxa/dev/fire-and-smoke-detection/venv/lib/python3.11/site-packages (from rknn-toolkit2) (4.11.0.86)\n",
      "Collecting fast-histogram>=0.11\n",
      "  Using cached fast_histogram-0.14-cp39-abi3-manylinux_2_17_aarch64.manylinux2014_aarch64.whl (55 kB)\n",
      "Collecting Pillow>=10.0.1\n",
      "  Using cached pillow-11.2.1-cp311-cp311-manylinux_2_28_aarch64.whl (4.5 MB)\n",
      "Collecting numpy<=1.26.4\n",
      "  Using cached numpy-1.26.4-cp311-cp311-manylinux_2_17_aarch64.manylinux2014_aarch64.whl (14.2 MB)\n",
      "Collecting onnx==1.16.1\n",
      "  Using cached onnx-1.16.1-cp311-cp311-manylinux_2_17_aarch64.manylinux2014_aarch64.whl (15.8 MB)\n",
      "Collecting onnxoptimizer==0.3.8\n",
      "  Using cached onnxoptimizer-0.3.8-cp311-cp311-linux_aarch64.whl\n",
      "Collecting onnxruntime>=1.16.0\n",
      "  Using cached onnxruntime-1.22.0-cp311-cp311-manylinux_2_27_aarch64.manylinux_2_28_aarch64.whl (14.4 MB)\n",
      "Collecting torch<=2.2.0,>=1.13.1\n",
      "  Using cached torch-2.2.0-cp311-cp311-manylinux2014_aarch64.whl (86.6 MB)\n",
      "Collecting coloredlogs\n",
      "  Using cached coloredlogs-15.0.1-py2.py3-none-any.whl (46 kB)\n",
      "Collecting flatbuffers\n",
      "  Using cached flatbuffers-25.2.10-py2.py3-none-any.whl (30 kB)\n",
      "Requirement already satisfied: packaging in /home/radxa/dev/fire-and-smoke-detection/venv/lib/python3.11/site-packages (from onnxruntime>=1.16.0->rknn-toolkit2) (25.0)\n",
      "Collecting sympy\n",
      "  Using cached sympy-1.14.0-py3-none-any.whl (6.3 MB)\n",
      "Requirement already satisfied: ruamel.yaml.clib>=0.2.7 in /home/radxa/dev/fire-and-smoke-detection/venv/lib/python3.11/site-packages (from ruamel.yaml>=0.17.21->rknn-toolkit2) (0.2.12)\n",
      "Collecting filelock\n",
      "  Using cached filelock-3.18.0-py3-none-any.whl (16 kB)\n",
      "Requirement already satisfied: typing-extensions>=4.8.0 in /home/radxa/dev/fire-and-smoke-detection/venv/lib/python3.11/site-packages (from torch<=2.2.0,>=1.13.1->rknn-toolkit2) (4.13.2)\n",
      "Collecting networkx\n",
      "  Using cached networkx-3.4.2-py3-none-any.whl (1.7 MB)\n",
      "Collecting jinja2\n",
      "  Using cached jinja2-3.1.6-py3-none-any.whl (134 kB)\n",
      "Collecting fsspec\n",
      "  Using cached fsspec-2025.5.1-py3-none-any.whl (199 kB)\n",
      "Collecting humanfriendly>=9.1\n",
      "  Using cached humanfriendly-10.0-py2.py3-none-any.whl (86 kB)\n",
      "Collecting MarkupSafe>=2.0\n",
      "  Using cached MarkupSafe-3.0.2-cp311-cp311-manylinux_2_17_aarch64.manylinux2014_aarch64.whl (23 kB)\n",
      "Collecting mpmath<1.4,>=1.1.0\n",
      "  Using cached mpmath-1.3.0-py3-none-any.whl (536 kB)\n",
      "Installing collected packages: mpmath, flatbuffers, tqdm, sympy, protobuf, Pillow, numpy, networkx, MarkupSafe, humanfriendly, fsspec, filelock, scipy, onnx, jinja2, fast-histogram, coloredlogs, torch, onnxruntime, onnxoptimizer, rknn-toolkit2\n",
      "  Attempting uninstall: numpy\n",
      "    Found existing installation: numpy 2.2.6\n",
      "    Uninstalling numpy-2.2.6:\n",
      "      Successfully uninstalled numpy-2.2.6\n",
      "Successfully installed MarkupSafe-3.0.2 Pillow-11.2.1 coloredlogs-15.0.1 fast-histogram-0.14 filelock-3.18.0 flatbuffers-25.2.10 fsspec-2025.5.1 humanfriendly-10.0 jinja2-3.1.6 mpmath-1.3.0 networkx-3.4.2 numpy-1.26.4 onnx-1.16.1 onnxoptimizer-0.3.8 onnxruntime-1.22.0 protobuf-3.20.3 rknn-toolkit2-2.3.2 scipy-1.15.3 sympy-1.14.0 torch-2.2.0 tqdm-4.67.1\n"
     ]
    }
   ],
   "source": [
    "! pip install rknn-toolkit2"
   ]
  },
  {
   "cell_type": "code",
   "execution_count": 2,
   "id": "1b53881a",
   "metadata": {},
   "outputs": [
    {
     "name": "stdout",
     "output_type": "stream",
     "text": [
      "/home/radxa/dev/fire-and-smoke-detection\n"
     ]
    }
   ],
   "source": [
    "%cd .."
   ]
  },
  {
   "cell_type": "code",
   "execution_count": 4,
   "id": "a8d036f7",
   "metadata": {},
   "outputs": [
    {
     "name": "stderr",
     "output_type": "stream",
     "text": [
      "I rknn-toolkit2 version: 2.3.2\n",
      "\u001b[1;33mW\u001b[0m \u001b[1;33mload_onnx: If you don't need to crop the model, don't set 'inputs'/'input_size_list'/'outputs'!\u001b[0m\n"
     ]
    },
    {
     "name": "stderr",
     "output_type": "stream",
     "text": [
      "I Loading : 100%|██████████████████████████████████████████████| 140/140 [00:00<00:00, 15166.14it/s]\n",
      "I OpFusing 1 :  97%|████████████████████████████████████████████▌ | 97/100 [00:00<00:00, 128.68it/s]"
     ]
    },
    {
     "name": "stdout",
     "output_type": "stream",
     "text": [
      "\n"
     ]
    },
    {
     "name": "stderr",
     "output_type": "stream",
     "text": [
      "I OpFusing 0 :  97%|█████████████████████████████████████████████▌ | 97/100 [00:01<00:00, 75.17it/s]"
     ]
    },
    {
     "name": "stdout",
     "output_type": "stream",
     "text": [
      "\n"
     ]
    },
    {
     "name": "stderr",
     "output_type": "stream",
     "text": [
      "I OpFusing 2 :  31%|██████████████▌                                | 31/100 [00:02<00:06, 11.02it/s]"
     ]
    },
    {
     "name": "stdout",
     "output_type": "stream",
     "text": [
      "\n",
      "\n"
     ]
    },
    {
     "name": "stderr",
     "output_type": "stream",
     "text": [
      "I OpFusing 2 : 100%|██████████████████████████████████████████████| 100/100 [00:03<00:00, 30.47it/s]"
     ]
    },
    {
     "name": "stdout",
     "output_type": "stream",
     "text": [
      "\n",
      "\n",
      "\n"
     ]
    },
    {
     "name": "stderr",
     "output_type": "stream",
     "text": [
      "I OpFusing 2 : 100%|██████████████████████████████████████████████| 100/100 [00:04<00:00, 20.63it/s]\n",
      "I GraphPreparing : 100%|█████████████████████████████████████████| 193/193 [00:00<00:00, 406.33it/s]\n",
      "I Quantizating : 100%|████████████████████████████████████████████| 193/193 [00:02<00:00, 81.36it/s]\n",
      "\u001b[1;33mW\u001b[0m \u001b[1;33mbuild: The default input dtype of 'input_0' is changed from 'float32' to 'int8' in rknn model for performance!\n",
      "                       Please take care of this change when deploy rknn model with Runtime API!\u001b[0m\n",
      "\u001b[1;33mW\u001b[0m \u001b[1;33mbuild: The default output dtype of 'output_0' is changed from 'float32' to 'int8' in rknn model for performance!\n",
      "                      Please take care of this change when deploy rknn model with Runtime API!\u001b[0m\n",
      "I rknn building ...\n",
      "I rknn building done.\n"
     ]
    }
   ],
   "source": [
    "from rknn.api import RKNN\n",
    "\n",
    "rknn = RKNN()\n",
    "\n",
    "rknn.config(\n",
    "    mean_values=[[0.485 * 255, 0.456 * 255, 0.406 * 255]],\n",
    "    std_values=[[0.229 * 255, 0.224 * 255, 0.225 * 255]],\n",
    "    target_platform='rk3588',\n",
    ")\n",
    "\n",
    "rknn.load_onnx(model='models/smoke_tiny_lrelu.onnx', inputs=['input_0'],  input_size_list=[[1, 3, 640, 640]])\n",
    "\n",
    "rknn.build(do_quantization=True, dataset='data/dataset.txt')\n",
    "\n",
    "rknn.export_rknn('models/smoke_tiny_lrelu.rknn')\n",
    "\n",
    "rknn.release()"
   ]
  },
  {
   "cell_type": "code",
   "execution_count": null,
   "id": "f8eca050",
   "metadata": {},
   "outputs": [],
   "source": []
  }
 ],
 "metadata": {
  "kernelspec": {
   "display_name": "venv",
   "language": "python",
   "name": "python3"
  },
  "language_info": {
   "codemirror_mode": {
    "name": "ipython",
    "version": 3
   },
   "file_extension": ".py",
   "mimetype": "text/x-python",
   "name": "python",
   "nbconvert_exporter": "python",
   "pygments_lexer": "ipython3",
   "version": "3.11.2"
  }
 },
 "nbformat": 4,
 "nbformat_minor": 5
}
