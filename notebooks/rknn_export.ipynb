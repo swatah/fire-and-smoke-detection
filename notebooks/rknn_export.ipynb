{
 "cells": [
  {
   "cell_type": "code",
   "execution_count": 1,
   "id": "bf738b80",
   "metadata": {},
   "outputs": [
    {
     "name": "stdout",
     "output_type": "stream",
     "text": [
      "/home/atanu/Documents/swatah/fire-and-smoke-detection\n"
     ]
    }
   ],
   "source": [
    "%cd .."
   ]
  },
  {
   "cell_type": "code",
   "execution_count": 6,
   "id": "15cb587c",
   "metadata": {},
   "outputs": [
    {
     "name": "stderr",
     "output_type": "stream",
     "text": [
      "I rknn-toolkit2 version: 2.3.2\n",
      "\u001b[1;33mW\u001b[0m \u001b[1;33mload_onnx: If you don't need to crop the model, don't set 'inputs'/'input_size_list'/'outputs'!\u001b[0m\n"
     ]
    },
    {
     "name": "stderr",
     "output_type": "stream",
     "text": [
      "I Loading : 100%|██████████████████████████████████████████████| 140/140 [00:00<00:00, 21986.84it/s]\n",
      "I OpFusing 0 :  99%|█████████████████████████████████████████████▌| 99/100 [00:00<00:00, 348.84it/s]"
     ]
    },
    {
     "name": "stdout",
     "output_type": "stream",
     "text": [
      "\n",
      "\n"
     ]
    },
    {
     "name": "stderr",
     "output_type": "stream",
     "text": [
      "I OpFusing 2 : 100%|█████████████████████████████████████████████| 100/100 [00:00<00:00, 196.23it/s]"
     ]
    },
    {
     "name": "stdout",
     "output_type": "stream",
     "text": [
      "\n",
      "\n",
      "\n",
      "\n",
      "\n"
     ]
    },
    {
     "name": "stderr",
     "output_type": "stream",
     "text": [
      "I OpFusing 2 : 100%|█████████████████████████████████████████████| 100/100 [00:00<00:00, 111.24it/s]\n",
      "I GraphPreparing : 100%|███████████████████████████████████████| 193/193 [00:00<00:00, 11357.75it/s]\n",
      "I Quantizating : 100%|███████████████████████████████████████████| 193/193 [00:00<00:00, 279.33it/s]\n",
      "\u001b[1;33mW\u001b[0m \u001b[1;33mbuild: The default input dtype of 'input_0' is changed from 'float32' to 'int8' in rknn model for performance!\n",
      "                       Please take care of this change when deploy rknn model with Runtime API!\u001b[0m\n",
      "\u001b[1;33mW\u001b[0m \u001b[1;33mbuild: The default output dtype of 'output_0' is changed from 'float32' to 'int8' in rknn model for performance!\n",
      "                      Please take care of this change when deploy rknn model with Runtime API!\u001b[0m\n",
      "I rknn building ...\n",
      "I rknn building done.\n",
      "I Target is None, use simulator!\n"
     ]
    },
    {
     "data": {
      "text/plain": [
       "0"
      ]
     },
     "execution_count": 6,
     "metadata": {},
     "output_type": "execute_result"
    }
   ],
   "source": [
    "from rknn.api import RKNN\n",
    "import cv2\n",
    "import numpy as np\n",
    "\n",
    "rknn = RKNN()\n",
    "\n",
    "rknn.config(\n",
    "    mean_values=[[255 * 0.485, 255 * 0.456, 255 * 0.406]],\n",
    "    std_values=[[255 * 0.229, 255 * 0.224, 255 * 0.225]],\n",
    "    target_platform=\"rv1106\",\n",
    ")\n",
    "\n",
    "\n",
    "rknn.load_onnx(\n",
    "    model=\"/home/atanu/Documents/swatah/fire-and-smoke-detection/models/smoke_tiny_lrelu.onnx\",\n",
    "    inputs=[\"input_0\"], outputs=[\"output_0\"],\n",
    "    input_size_list=[[1, 3, 640, 640]],\n",
    ")\n",
    "\n",
    "\n",
    "rknn.build(do_quantization=\"i8\", dataset=\"data/dataset.txt\")\n",
    "\n",
    "rknn.export_rknn(\n",
    "    \"/home/atanu/Documents/swatah/fire-and-smoke-detection/models/smoke_tiny_lrelu.rknn\"\n",
    ")\n",
    "\n",
    "rknn.init_runtime(target=None, perf_debug=True, eval_mem=True)"
   ]
  },
  {
   "cell_type": "code",
   "execution_count": 10,
   "id": "8d4d804f",
   "metadata": {},
   "outputs": [
    {
     "data": {
      "text/plain": [
       "(1, 1, 8400, 8)"
      ]
     },
     "execution_count": 10,
     "metadata": {},
     "output_type": "execute_result"
    }
   ],
   "source": [
    "img = cv2.imread(\n",
    "    \"data/images/sample_02.png\"\n",
    ")\n",
    "img = cv2.resize(img, (640, 640))\n",
    "img = np.expand_dims(img, 0)\n",
    "\n",
    "outputs = rknn.inference(inputs=[img])\n",
    "\n",
    "np.array(outputs).shape"
   ]
  },
  {
   "cell_type": "code",
   "execution_count": null,
   "id": "917615a3",
   "metadata": {},
   "outputs": [],
   "source": []
  }
 ],
 "metadata": {
  "kernelspec": {
   "display_name": "venv",
   "language": "python",
   "name": "python3"
  },
  "language_info": {
   "codemirror_mode": {
    "name": "ipython",
    "version": 3
   },
   "file_extension": ".py",
   "mimetype": "text/x-python",
   "name": "python",
   "nbconvert_exporter": "python",
   "pygments_lexer": "ipython3",
   "version": "3.12.3"
  }
 },
 "nbformat": 4,
 "nbformat_minor": 5
}
