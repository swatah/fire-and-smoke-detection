{
 "cells": [
  {
   "cell_type": "code",
   "execution_count": 1,
   "id": "5b1be6d7",
   "metadata": {},
   "outputs": [
    {
     "data": {
      "text/plain": [
       "'\\nCopyright (c) 2025 NeuralSense AI Private Limited\\nTrading as swatah.ai. All rights reserved.\\nThis file is part of the swatah.ai software stack and is licensed under\\nthe terms defined in the accompanying LICENSE file. Unauthorized copying,\\ndistribution, or modification of this file, via any medium, is strictly prohibited.\\nFor more information, visit: https://swatah.ai\\n'"
      ]
     },
     "execution_count": 1,
     "metadata": {},
     "output_type": "execute_result"
    }
   ],
   "source": [
    "\"\"\"\n",
    "Copyright (c) 2025 NeuralSense AI Private Limited\n",
    "Trading as swatah.ai. All rights reserved.\n",
    "This file is part of the swatah.ai software stack and is licensed under\n",
    "the terms defined in the accompanying LICENSE file. Unauthorized copying,\n",
    "distribution, or modification of this file, via any medium, is strictly prohibited.\n",
    "For more information, visit: https://swatah.ai\n",
    "\"\"\""
   ]
  },
  {
   "cell_type": "code",
   "execution_count": 2,
   "id": "541b7f9c",
   "metadata": {},
   "outputs": [
    {
     "name": "stdout",
     "output_type": "stream",
     "text": [
      "/home/radxa/dev/fire-and-smoke-detection\n"
     ]
    }
   ],
   "source": [
    "%cd .."
   ]
  },
  {
   "cell_type": "code",
   "execution_count": 3,
   "id": "92e7a600",
   "metadata": {},
   "outputs": [],
   "source": [
    "import numpy as np\n",
    "#from rknnlite.api import RKNNLite\n",
    "import cv2"
   ]
  },
  {
   "cell_type": "code",
   "execution_count": 4,
   "id": "8796c4ab",
   "metadata": {},
   "outputs": [],
   "source": [
    "def preprocess_image(image_path):\n",
    "    import cv2\n",
    "    img = cv2.imread(image_path)\n",
    "    img = cv2.resize(img, (640, 640))\n",
    "    img = np.expand_dims(img, 0)\n",
    "\n",
    "    return img"
   ]
  },
  {
   "cell_type": "code",
   "execution_count": 7,
   "id": "75d21cad",
   "metadata": {},
   "outputs": [
    {
     "name": "stderr",
     "output_type": "stream",
     "text": [
      "I rknn-toolkit2 version: 2.3.2\n"
     ]
    },
    {
     "name": "stderr",
     "output_type": "stream",
     "text": [
      "I target set by user is: rk3588\n",
      "\u001b[1;33mW\u001b[0m \u001b[1;33minference: The 'data_format' is not set, and its default value is 'nhwc'!\u001b[0m\n"
     ]
    },
    {
     "ename": "AttributeError",
     "evalue": "'RKNN' object has no attribute 'query_outputs'",
     "output_type": "error",
     "traceback": [
      "\u001b[31m---------------------------------------------------------------------------\u001b[39m",
      "\u001b[31mAttributeError\u001b[39m                            Traceback (most recent call last)",
      "\u001b[36mCell\u001b[39m\u001b[36m \u001b[39m\u001b[32mIn[7]\u001b[39m\u001b[32m, line 22\u001b[39m\n\u001b[32m     19\u001b[39m img = preprocess_image(img_path)\n\u001b[32m     21\u001b[39m outputs = rknn.inference(inputs=[img])\n\u001b[32m---> \u001b[39m\u001b[32m22\u001b[39m output_attrs = \u001b[43mrknn\u001b[49m\u001b[43m.\u001b[49m\u001b[43mquery_outputs\u001b[49m()\n\u001b[32m     23\u001b[39m \u001b[38;5;28mprint\u001b[39m(output_attrs)\n",
      "\u001b[31mAttributeError\u001b[39m: 'RKNN' object has no attribute 'query_outputs'"
     ]
    }
   ],
   "source": [
    "# rknn = RKNNLite()\n",
    "# rknn.load_rknn('models/smoke_tiny_lrelu.rknn')\n",
    "# rknn.init_runtime()\n",
    "\n",
    "# img_path = \"data/images/sample_02.png\"\n",
    "# img = preprocess_image(img_path)\n",
    "\n",
    "# outputs = rknn.inference(inputs=[img])\n",
    "\n",
    "# rknn.release()\n",
    "\n",
    "from rknn.api import RKNN\n",
    "\n",
    "rknn = RKNN()\n",
    "rknn.load_rknn('models/smoke_tiny_lrelu.rknn')\n",
    "rknn.init_runtime(target=\"rk3588\")\n",
    "\n",
    "img_path = \"data/images/sample_02.png\"\n",
    "img = preprocess_image(img_path)\n",
    "\n",
    "outputs = rknn.inference(inputs=[img])\n",
    "output_attrs = rknn.query_outputs()\n",
    "print(output_attrs)"
   ]
  },
  {
   "cell_type": "code",
   "execution_count": 6,
   "id": "c151f0c4",
   "metadata": {},
   "outputs": [
    {
     "data": {
      "text/plain": [
       "[array([[[  6.7782655,   3.3891327,  23.723928 , ...,   0.       ,\n",
       "            0.       ,   0.       ],\n",
       "         [ 13.556531 ,   0.       ,  10.167398 , ...,   0.       ,\n",
       "            0.       ,   0.       ],\n",
       "         [ 13.556531 ,  -3.3891327,   3.3891327, ...,   0.       ,\n",
       "            0.       ,   0.       ],\n",
       "         ...,\n",
       "         [528.7047   , 552.42865  , 149.12184  , ...,   0.       ,\n",
       "            0.       ,   0.       ],\n",
       "         [549.0395   , 559.2069   , 101.67398  , ...,   0.       ,\n",
       "            0.       ,   0.       ],\n",
       "         [565.98517  , 579.5417   ,  64.393524 , ...,   0.       ,\n",
       "            0.       ,   0.       ]]], dtype=float32)]"
      ]
     },
     "execution_count": 6,
     "metadata": {},
     "output_type": "execute_result"
    }
   ],
   "source": [
    "outputs"
   ]
  },
  {
   "cell_type": "code",
   "execution_count": null,
   "id": "fd2578cf",
   "metadata": {},
   "outputs": [],
   "source": []
  }
 ],
 "metadata": {
  "kernelspec": {
   "display_name": "venv",
   "language": "python",
   "name": "python3"
  },
  "language_info": {
   "codemirror_mode": {
    "name": "ipython",
    "version": 3
   },
   "file_extension": ".py",
   "mimetype": "text/x-python",
   "name": "python",
   "nbconvert_exporter": "python",
   "pygments_lexer": "ipython3",
   "version": "3.11.2"
  }
 },
 "nbformat": 4,
 "nbformat_minor": 5
}
