{
 "cells": [
  {
   "cell_type": "code",
   "execution_count": 1,
   "id": "5b539b7e",
   "metadata": {},
   "outputs": [
    {
     "name": "stdout",
     "output_type": "stream",
     "text": [
      "/home/radxa/dev/fire-and-smoke-detection\n"
     ]
    }
   ],
   "source": [
    "%cd .."
   ]
  },
  {
   "cell_type": "code",
   "execution_count": 2,
   "id": "73a57692",
   "metadata": {},
   "outputs": [],
   "source": [
    "import cv2\n",
    "import onnxruntime as ort\n",
    "# import matplotlib.pyplot as plt\n",
    "# %matplotlib inline\n",
    "\n",
    "from utils.process import preprocessing, postprocessing\n",
    "\n",
    "IMAGE_PATH = \"data/images/sample_01.png\"\n",
    "ONNX_MODEL_PATH = \"models/smoke_tiny_lrelu.onnx\"\n",
    "CLASS_NAMES = [\"BG\", \"Fire\", \"Smoke\"]\n",
    "COLORS = [\"red\", \"yellow\", \"white\"]\n",
    "IMAGE_SHAPE = (640, 640)"
   ]
  },
  {
   "cell_type": "code",
   "execution_count": 3,
   "id": "865bcd91",
   "metadata": {},
   "outputs": [],
   "source": [
    "session = ort.InferenceSession(ONNX_MODEL_PATH)\n",
    "input_name = session.get_inputs()[0].name\n",
    "output_name = session.get_outputs()[0].name"
   ]
  },
  {
   "cell_type": "code",
   "execution_count": 4,
   "id": "4102dce0",
   "metadata": {},
   "outputs": [
    {
     "name": "stdout",
     "output_type": "stream",
     "text": [
      "tensor_input shape: (1, 3, 640, 640)\n",
      "predictions shape: (1, 8400, 8)\n",
      "[array([[[ 7.05275631e+00,  1.88555336e+00,  3.50317535e+01, ...,\n",
      "          5.27590513e-04,  2.11997658e-01,  1.19525701e-01],\n",
      "        [ 1.36574211e+01, -3.73984098e-01,  1.90118484e+01, ...,\n",
      "          6.94990158e-05,  1.09940767e-01,  2.51293182e-02],\n",
      "        [ 1.60149727e+01, -1.01238787e+00,  4.21233654e+00, ...,\n",
      "          7.23004341e-05,  2.43362993e-01,  8.53842497e-03],\n",
      "        ...,\n",
      "        [ 5.33503296e+02,  5.66761230e+02,  1.69378586e+02, ...,\n",
      "          1.03354454e-04,  5.80913126e-02,  9.97965634e-02],\n",
      "        [ 5.58621582e+02,  5.63024353e+02,  9.67023849e+01, ...,\n",
      "          1.22010708e-04,  3.69730294e-02,  4.18034494e-02],\n",
      "        [ 5.56138428e+02,  5.63692444e+02,  4.34511337e+01, ...,\n",
      "          3.03983688e-05,  3.35299969e-02,  6.32097423e-02]]],\n",
      "      dtype=float32)]\n"
     ]
    }
   ],
   "source": [
    "image = cv2.imread(IMAGE_PATH)\n",
    "image = cv2.cvtColor(image, cv2.COLOR_BGR2RGB)\n",
    "\n",
    "# preprocessing\n",
    "tensor_input, image, ratios = preprocessing(image, IMAGE_SHAPE)\n",
    "print(f\"tensor_input shape: {tensor_input.shape}\")\n",
    "\n",
    "# predictions\n",
    "predictions = session.run([output_name], {input_name: tensor_input})\n",
    "print(f\"predictions shape: {predictions[0].shape}\")\n",
    "\n",
    "print(predictions)\n",
    "\n",
    "# postprocessing\n",
    "outputs = postprocessing(predictions[0], ratios)\n",
    "\n",
    "\n",
    "\n",
    "# plt.figure(figsize=(10, 10))\n",
    "# plt.imshow(image)\n",
    "\n",
    "# for detections in outputs:\n",
    "\n",
    "#     if detections.ndim == 1:\n",
    "#         detections = detections.reshape(1, -1)\n",
    "\n",
    "#         for det in detections:\n",
    "#             print(f\"Bbox: {det[:4]}\")\n",
    "#             print(f\"class_id: {det[8]}\")\n",
    "#             print(f\"score: {det[4]}\")\n",
    "#             x1, y1, x2, y2 = det[:4]\n",
    "#             class_id = int(det[8])\n",
    "#             # score = det[4] * det[5 + class_id]\n",
    "#             score = det[4]\n",
    "#             label = f\"{CLASS_NAMES[class_id]}: {score:.2f}\"\n",
    "\n",
    "#             plt.gca().add_patch(\n",
    "#                 plt.Rectangle(\n",
    "#                     (x1, y1),\n",
    "#                     x2 - x1,\n",
    "#                     y2 - y1,\n",
    "#                     fill=False,\n",
    "#                     edgecolor=COLORS[class_id],\n",
    "#                     linewidth=2,\n",
    "#                 )\n",
    "#             )\n",
    "#             plt.text(\n",
    "#                 x1,\n",
    "#                 y1 - 5,\n",
    "#                 label,\n",
    "#                 fontsize=12,\n",
    "#                 bbox=dict(facecolor=COLORS[class_id], alpha=1),\n",
    "#             )\n",
    "\n",
    "# plt.axis(\"off\")\n",
    "# plt.show()"
   ]
  },
  {
   "cell_type": "code",
   "execution_count": null,
   "id": "732e8233",
   "metadata": {},
   "outputs": [],
   "source": []
  }
 ],
 "metadata": {
  "kernelspec": {
   "display_name": "venv",
   "language": "python",
   "name": "python3"
  },
  "language_info": {
   "codemirror_mode": {
    "name": "ipython",
    "version": 3
   },
   "file_extension": ".py",
   "mimetype": "text/x-python",
   "name": "python",
   "nbconvert_exporter": "python",
   "pygments_lexer": "ipython3",
   "version": "3.11.2"
  }
 },
 "nbformat": 4,
 "nbformat_minor": 5
}
